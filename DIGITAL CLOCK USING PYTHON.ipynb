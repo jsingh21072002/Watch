{
 "cells": [
  {
   "cell_type": "code",
   "execution_count": null,
   "id": "d4bcb50a",
   "metadata": {},
   "outputs": [],
   "source": [
    "import tkinter as vi\n",
    "import time\n",
    "\n",
    "window = vi.Tk()\n",
    "def update_clock():\n",
    "    hours=time.strftime(\"%I\")\n",
    "    minutes=time.strftime(\"%M\")\n",
    "    seconds=time.strftime(\"%S\")\n",
    "    am_pm=time.strftime(\"%p\")\n",
    "    time_text = hours + \":\" +minutes +\":\"+seconds+\" \"+am_pm\n",
    "    digital_clock_label.config(text=time_text)\n",
    "    digital_clock_label.after(1000,update_clock)\n",
    "    \n",
    "\n",
    "digital_clock_label=vi.Label(window,text=\"00:00:00\",font=\"Helvetica 72 bold\")\n",
    "digital_clock_label.pack()\n",
    "\n",
    "update_clock()\n",
    "window.mainloop()"
   ]
  },
  {
   "cell_type": "code",
   "execution_count": null,
   "id": "dc82423c",
   "metadata": {},
   "outputs": [],
   "source": []
  },
  {
   "cell_type": "code",
   "execution_count": null,
   "id": "548f83ad",
   "metadata": {},
   "outputs": [],
   "source": []
  }
 ],
 "metadata": {
  "kernelspec": {
   "display_name": "Python 3 (ipykernel)",
   "language": "python",
   "name": "python3"
  },
  "language_info": {
   "codemirror_mode": {
    "name": "ipython",
    "version": 3
   },
   "file_extension": ".py",
   "mimetype": "text/x-python",
   "name": "python",
   "nbconvert_exporter": "python",
   "pygments_lexer": "ipython3",
   "version": "3.10.9"
  }
 },
 "nbformat": 4,
 "nbformat_minor": 5
}
